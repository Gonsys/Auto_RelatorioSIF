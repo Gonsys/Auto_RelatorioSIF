{
 "cells": [
  {
   "cell_type": "code",
   "execution_count": 1,
   "metadata": {},
   "outputs": [],
   "source": [
    "import requests\n",
    "from selenium import webdriver\n",
    "from bs4 import BeautifulSoup\n",
    "import time"
   ]
  },
  {
   "cell_type": "code",
   "execution_count": 3,
   "metadata": {},
   "outputs": [
    {
     "name": "stdout",
     "output_type": "stream",
     "text": [
      "{'code': 401, 'error': True, 'message': 'Token Inválido.'}\n"
     ]
    }
   ],
   "source": [
    "url = f\"http://sifserver.gonsys.com:15000/Sif/api/rps/getdadosrps\"\n",
    "resp = requests.post(url=url,data={'codigoempresa': \"1\", 'estado': 'null', 'cidade': 'null', 'codigogaragem': 'null', 'data': \"2023-01-01T03:00:00.000Z\"})\n",
    "data = resp.json()\n",
    "print(data)"
   ]
  },
  {
   "cell_type": "code",
   "execution_count": null,
   "metadata": {},
   "outputs": [],
   "source": [
    "\n",
    "browser = webdriver.Chrome()\n",
    "browser.get(\"http://sifserver.gonsys.com:15001/SIF/authentication/login\")\n",
    "time.sleep(5)\n",
    "username = browser.find_element('id','username')\n",
    "password = browser.find_element ('id','txtPassword')\n",
    "\n",
    "username.send_keys(\"\")\n",
    "password.send_keys(\"\")\n",
    "\n",
    "time.sleep(2)\n",
    "login_attempt = browser.find_element ('Sign In').click()\n",
    "time.sleep(5)\n",
    "\n",
    "html = browser.page_source\n",
    "soup = BeautifulSoup(html, 'lxml')\n",
    "lista = soup.find_all('html')\n",
    "\n",
    "print(lista)"
   ]
  },
  {
   "cell_type": "code",
   "execution_count": 49,
   "metadata": {},
   "outputs": [
    {
     "name": "stdout",
     "output_type": "stream",
     "text": [
      "<!doctype html>\n",
      "<html lang=\"en\">\n",
      "<head>\n",
      "  <meta charset=\"utf-8\">\n",
      "  <title>SIF</title>\n",
      "  <base href=\"/SIF/\">\n",
      "  <meta name=\"viewport\" content=\"width=device-width, initial-scale=1\">\n",
      "  <link rel=\"icon\" type=\"image/x-icon\" href=\"assets/logo2.ico\">\n",
      "<link rel=\"stylesheet\" href=\"styles.4ae51897cb873b6f33f8.css\"></head>\n",
      "<body>\n",
      "  <app-root></app-root>\n",
      "<script type=\"text/javascript\" src=\"runtime.2b2370536d8bcc39adc7.js\"></script><script type=\"text/javascript\" src=\"polyfills.9a1d2e59606d6be2d6f3.js\"></script><script type=\"text/javascript\" src=\"scripts.7ff6430bea8d164034ee.js\"></script><script type=\"text/javascript\" src=\"main.95376c19faec37a4f8cd.js\"></script></body>\n",
      "</html>\n",
      "\n"
     ]
    }
   ],
   "source": [
    "\n",
    "obj = requests.Session() \n",
    "response = obj.request(\n",
    "    'get',\n",
    "    'http://sifserver.gonsys.com:15001/SIF/authentication/login',\n",
    "    cookies={ \n",
    "        }\n",
    ")   \n",
    "print(response.text) "
   ]
  }
 ],
 "metadata": {
  "kernelspec": {
   "display_name": ".venv",
   "language": "python",
   "name": "python3"
  },
  "language_info": {
   "codemirror_mode": {
    "name": "ipython",
    "version": 3
   },
   "file_extension": ".py",
   "mimetype": "text/x-python",
   "name": "python",
   "nbconvert_exporter": "python",
   "pygments_lexer": "ipython3",
   "version": "3.10.7"
  },
  "orig_nbformat": 4,
  "vscode": {
   "interpreter": {
    "hash": "d0185ddfd75579eb1e5b4e004bf710910b18c728db594886cda02e075ee86e07"
   }
  }
 },
 "nbformat": 4,
 "nbformat_minor": 2
}
