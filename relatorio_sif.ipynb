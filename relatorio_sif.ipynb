{
 "cells": [
  {
   "cell_type": "code",
   "execution_count": 93,
   "metadata": {},
   "outputs": [],
   "source": [
    "import requests\n",
    "from selenium import webdriver\n",
    "from selenium.webdriver.common.by import By\n",
    "from selenium.webdriver.chrome import options\n",
    "from selenium.webdriver.chrome.options import Options\n",
    "from selenium.webdriver.support.ui import Select\n",
    "from bs4 import BeautifulSoup\n",
    "from time import sleep"
   ]
  },
  {
   "cell_type": "code",
   "execution_count": 127,
   "metadata": {},
   "outputs": [
    {
     "name": "stderr",
     "output_type": "stream",
     "text": [
      "C:\\Users\\guilherme\\AppData\\Local\\Temp\\ipykernel_31380\\2829102187.py:2: DeprecationWarning: headless property is deprecated, instead use add_argument('--headless') or add_argument('--headless=new')\n",
      "  options.headless = False\n"
     ]
    },
    {
     "ename": "NoSuchElementException",
     "evalue": "Message: no such element: Unable to locate element: {\"method\":\"css selector\",\"selector\":\"[name=\"empresa\"]\"}\n  (Session info: chrome=109.0.5414.75)\nStacktrace:\nBacktrace:\n\t(No symbol) [0x00BB6643]\n\t(No symbol) [0x00B4BE21]\n\t(No symbol) [0x00A4DA9D]\n\t(No symbol) [0x00A81342]\n\t(No symbol) [0x00A8147B]\n\t(No symbol) [0x00AB8DC2]\n\t(No symbol) [0x00A9FDC4]\n\t(No symbol) [0x00AB6B09]\n\t(No symbol) [0x00A9FB76]\n\t(No symbol) [0x00A749C1]\n\t(No symbol) [0x00A75E5D]\n\tGetHandleVerifier [0x00E2A142+2497106]\n\tGetHandleVerifier [0x00E585D3+2686691]\n\tGetHandleVerifier [0x00E5BB9C+2700460]\n\tGetHandleVerifier [0x00C63B10+635936]\n\t(No symbol) [0x00B54A1F]\n\t(No symbol) [0x00B5A418]\n\t(No symbol) [0x00B5A505]\n\t(No symbol) [0x00B6508B]\n\tBaseThreadInitThunk [0x755600F9+25]\n\tRtlGetAppContainerNamedObjectPath [0x76FB7BBE+286]\n\tRtlGetAppContainerNamedObjectPath [0x76FB7B8E+238]\n",
     "output_type": "error",
     "traceback": [
      "\u001b[1;31m---------------------------------------------------------------------------\u001b[0m",
      "\u001b[1;31mNoSuchElementException\u001b[0m                    Traceback (most recent call last)",
      "Cell \u001b[1;32mIn[127], line 22\u001b[0m\n\u001b[0;32m     19\u001b[0m sleep(\u001b[39m2\u001b[39m)\n\u001b[0;32m     21\u001b[0m \u001b[39m#select_element = navegador.find_element(by=By.NAME,value='empresa')\u001b[39;00m\n\u001b[1;32m---> 22\u001b[0m select_element \u001b[39m=\u001b[39m Select(navegador\u001b[39m.\u001b[39;49mfind_element(by\u001b[39m=\u001b[39;49mBy\u001b[39m.\u001b[39;49mNAME,value\u001b[39m=\u001b[39;49m\u001b[39m'\u001b[39;49m\u001b[39mempresa\u001b[39;49m\u001b[39m'\u001b[39;49m))\n\u001b[0;32m     23\u001b[0m select \u001b[39m=\u001b[39m Select(select_element)\n\u001b[0;32m     24\u001b[0m select\u001b[39m.\u001b[39mselect_by_visible_text(\u001b[39m'\u001b[39m\u001b[39mAGE S.A.\u001b[39m\u001b[39m'\u001b[39m)\n",
      "File \u001b[1;32mc:\\Users\\guilherme\\OneDrive\\Área de Trabalho\\GUILHERME\\PROJETOS PYTHON\\Auto_Relatorio\\.venv\\lib\\site-packages\\selenium\\webdriver\\remote\\webdriver.py:830\u001b[0m, in \u001b[0;36mWebDriver.find_element\u001b[1;34m(self, by, value)\u001b[0m\n\u001b[0;32m    827\u001b[0m     by \u001b[39m=\u001b[39m By\u001b[39m.\u001b[39mCSS_SELECTOR\n\u001b[0;32m    828\u001b[0m     value \u001b[39m=\u001b[39m \u001b[39mf\u001b[39m\u001b[39m'\u001b[39m\u001b[39m[name=\u001b[39m\u001b[39m\"\u001b[39m\u001b[39m{\u001b[39;00mvalue\u001b[39m}\u001b[39;00m\u001b[39m\"\u001b[39m\u001b[39m]\u001b[39m\u001b[39m'\u001b[39m\n\u001b[1;32m--> 830\u001b[0m \u001b[39mreturn\u001b[39;00m \u001b[39mself\u001b[39;49m\u001b[39m.\u001b[39;49mexecute(Command\u001b[39m.\u001b[39;49mFIND_ELEMENT, {\u001b[39m\"\u001b[39;49m\u001b[39musing\u001b[39;49m\u001b[39m\"\u001b[39;49m: by, \u001b[39m\"\u001b[39;49m\u001b[39mvalue\u001b[39;49m\u001b[39m\"\u001b[39;49m: value})[\u001b[39m\"\u001b[39m\u001b[39mvalue\u001b[39m\u001b[39m\"\u001b[39m]\n",
      "File \u001b[1;32mc:\\Users\\guilherme\\OneDrive\\Área de Trabalho\\GUILHERME\\PROJETOS PYTHON\\Auto_Relatorio\\.venv\\lib\\site-packages\\selenium\\webdriver\\remote\\webdriver.py:440\u001b[0m, in \u001b[0;36mWebDriver.execute\u001b[1;34m(self, driver_command, params)\u001b[0m\n\u001b[0;32m    438\u001b[0m response \u001b[39m=\u001b[39m \u001b[39mself\u001b[39m\u001b[39m.\u001b[39mcommand_executor\u001b[39m.\u001b[39mexecute(driver_command, params)\n\u001b[0;32m    439\u001b[0m \u001b[39mif\u001b[39;00m response:\n\u001b[1;32m--> 440\u001b[0m     \u001b[39mself\u001b[39;49m\u001b[39m.\u001b[39;49merror_handler\u001b[39m.\u001b[39;49mcheck_response(response)\n\u001b[0;32m    441\u001b[0m     response[\u001b[39m\"\u001b[39m\u001b[39mvalue\u001b[39m\u001b[39m\"\u001b[39m] \u001b[39m=\u001b[39m \u001b[39mself\u001b[39m\u001b[39m.\u001b[39m_unwrap_value(response\u001b[39m.\u001b[39mget(\u001b[39m\"\u001b[39m\u001b[39mvalue\u001b[39m\u001b[39m\"\u001b[39m, \u001b[39mNone\u001b[39;00m))\n\u001b[0;32m    442\u001b[0m     \u001b[39mreturn\u001b[39;00m response\n",
      "File \u001b[1;32mc:\\Users\\guilherme\\OneDrive\\Área de Trabalho\\GUILHERME\\PROJETOS PYTHON\\Auto_Relatorio\\.venv\\lib\\site-packages\\selenium\\webdriver\\remote\\errorhandler.py:245\u001b[0m, in \u001b[0;36mErrorHandler.check_response\u001b[1;34m(self, response)\u001b[0m\n\u001b[0;32m    243\u001b[0m         alert_text \u001b[39m=\u001b[39m value[\u001b[39m\"\u001b[39m\u001b[39malert\u001b[39m\u001b[39m\"\u001b[39m]\u001b[39m.\u001b[39mget(\u001b[39m\"\u001b[39m\u001b[39mtext\u001b[39m\u001b[39m\"\u001b[39m)\n\u001b[0;32m    244\u001b[0m     \u001b[39mraise\u001b[39;00m exception_class(message, screen, stacktrace, alert_text)  \u001b[39m# type: ignore[call-arg]  # mypy is not smart enough here\u001b[39;00m\n\u001b[1;32m--> 245\u001b[0m \u001b[39mraise\u001b[39;00m exception_class(message, screen, stacktrace)\n",
      "\u001b[1;31mNoSuchElementException\u001b[0m: Message: no such element: Unable to locate element: {\"method\":\"css selector\",\"selector\":\"[name=\"empresa\"]\"}\n  (Session info: chrome=109.0.5414.75)\nStacktrace:\nBacktrace:\n\t(No symbol) [0x00BB6643]\n\t(No symbol) [0x00B4BE21]\n\t(No symbol) [0x00A4DA9D]\n\t(No symbol) [0x00A81342]\n\t(No symbol) [0x00A8147B]\n\t(No symbol) [0x00AB8DC2]\n\t(No symbol) [0x00A9FDC4]\n\t(No symbol) [0x00AB6B09]\n\t(No symbol) [0x00A9FB76]\n\t(No symbol) [0x00A749C1]\n\t(No symbol) [0x00A75E5D]\n\tGetHandleVerifier [0x00E2A142+2497106]\n\tGetHandleVerifier [0x00E585D3+2686691]\n\tGetHandleVerifier [0x00E5BB9C+2700460]\n\tGetHandleVerifier [0x00C63B10+635936]\n\t(No symbol) [0x00B54A1F]\n\t(No symbol) [0x00B5A418]\n\t(No symbol) [0x00B5A505]\n\t(No symbol) [0x00B6508B]\n\tBaseThreadInitThunk [0x755600F9+25]\n\tRtlGetAppContainerNamedObjectPath [0x76FB7BBE+286]\n\tRtlGetAppContainerNamedObjectPath [0x76FB7B8E+238]\n"
     ]
    }
   ],
   "source": [
    "options = Options()\n",
    "options.headless = False\n",
    "navegador = webdriver.Chrome(options=options)\n",
    "link=''\n",
    "navegador.get(url=link)\n",
    "sleep(3)\n",
    "inputUsuario = navegador.find_element(by=By.ID,value='txtUser')\n",
    "inputUsuario.send_keys('')\n",
    "inputSenha = navegador.find_element(by=By.ID,value='txtPassword')\n",
    "inputSenha.send_keys('')\n",
    "\n",
    "sleep(2)\n",
    "botao = navegador.find_element(by=By.NAME,value='sign-in')\n",
    "botao.click()\n",
    "sleep(2)\n",
    "\n",
    "rps = navegador.find_element(by=By.LINK_TEXT,value= 'RPS')\n",
    "rps.click()\n",
    "sleep(2)\n",
    "\n",
    "#select_element = navegador.find_element(by=By.NAME,value='empresa')\n",
    "select_element = Select(navegador.find_element(by=By.NAME,value='empresa'))\n",
    "select = Select(select_element)\n",
    "select.select_by_visible_text('AGE S.A.')"
   ]
  }
 ],
 "metadata": {
  "kernelspec": {
   "display_name": ".venv",
   "language": "python",
   "name": "python3"
  },
  "language_info": {
   "codemirror_mode": {
    "name": "ipython",
    "version": 3
   },
   "file_extension": ".py",
   "mimetype": "text/x-python",
   "name": "python",
   "nbconvert_exporter": "python",
   "pygments_lexer": "ipython3",
   "version": "3.10.7"
  },
  "orig_nbformat": 4,
  "vscode": {
   "interpreter": {
    "hash": "d0185ddfd75579eb1e5b4e004bf710910b18c728db594886cda02e075ee86e07"
   }
  }
 },
 "nbformat": 4,
 "nbformat_minor": 2
}
