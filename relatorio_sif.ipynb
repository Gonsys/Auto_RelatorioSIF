{
 "cells": [
  {
   "cell_type": "code",
   "execution_count": 1,
   "metadata": {},
   "outputs": [],
   "source": [
    "import requests\n",
    "from selenium import webdriver\n",
    "from bs4 import BeautifulSoup\n",
    "import time"
   ]
  },
  {
   "cell_type": "code",
   "execution_count": 3,
   "metadata": {},
   "outputs": [
    {
     "name": "stdout",
     "output_type": "stream",
     "text": [
      "{'code': 401, 'error': True, 'message': 'Token Inválido.'}\n"
     ]
    }
   ],
   "source": [
    "url = f\"http://sifserver.gonsys.com:15000/Sif/api/rps/getdadosrps\"\n",
    "resp = requests.post(url=url,data={'codigoempresa': \"1\", 'estado': 'null', 'cidade': 'null', 'codigogaragem': 'null', 'data': \"2023-01-01T03:00:00.000Z\"})\n",
    "data = resp.json()\n",
    "print(data)"
   ]
  },
  {
   "cell_type": "code",
   "execution_count": null,
   "metadata": {},
   "outputs": [],
   "source": [
    "\n",
    "\n",
    "browser = webdriver.Chrome()\n",
    "browser.get(\"http://sifserver.gonsys.com:15001/SIF/authentication/login\")\n",
    "time.sleep(5)\n",
    "username = browser.find_element('txtUser')\n",
    "password = browser.find_element('txtPassword')\n",
    "\n",
    "username.send_keys(\"\")\n",
    "password.send_keys(\"\")\n",
    "\n",
    "time.sleep(2)\n",
    "login_attempt = browser.find_element('Sign In').click()\n",
    "time.sleep(5)\n",
    "\n",
    "html = browser.page_source\n",
    "soup = BeautifulSoup(html, 'lxml')\n",
    "lista = soup.find_all('html')\n",
    "\n",
    "print(lista)"
   ]
  },
  {
   "cell_type": "code",
   "execution_count": 27,
   "metadata": {},
   "outputs": [
    {
     "name": "stdout",
     "output_type": "stream",
     "text": [
      "<Response [200]>\n"
     ]
    }
   ],
   "source": [
    "\n",
    "obj = requests.Session() \n",
    "response = obj.request(\n",
    "    'get',\n",
    "    'http://sifserver.gonsys.com:15001/SIF/authentication/login',\n",
    "    cookies={ \n",
    "        'session': 'eyJ0eXAiOiAiSldUIiwiYWxnIjogIkhTMjU2In0=.eyJJZCI6OTIsIk5vbWUiOiJHdWlsaGVybWUgTG9ibyBMaW1hIiwiVXN1YXJpbyI6Imd1aWxoZXJtZS5sb2JvIiwiRnVuY2lvbmFsaWRhZGVzIjpbeyJJZCI6MSwiSWRGdW5jaW9uYWxpZGFkZVBhaSI6bnVsbCwiTm9tZSI6IkFjZXNzYXIgYXMgVGVsYXMgZGEgQXBsaWNhY2FvIiwiVXJsIjpudWxsLCJFeGliaXJNZW51Ijp0cnVlLCJUb2tlbkRhdGUiOiIwMDAxLTAxLTAxVDAwOjAwOjAwIn1dLCJUb2tlbkRhdGUiOiIyMDIzLTAxLTI0VDExOjMyOjQwLjI1MTI4MTgtMDM6MDAiLCJUb2tlbiI6bnVsbCwiUHJpbWVpcm9BY2Vzc28iOmZhbHNlfQ==.SI+DYZj9IYmhocp7xWzQnoYI5QQ9GZic4LqyS9zMT94='\n",
    "        }\n",
    ")\n",
    "print(response) "
   ]
  }
 ],
 "metadata": {
  "kernelspec": {
   "display_name": ".venv",
   "language": "python",
   "name": "python3"
  },
  "language_info": {
   "codemirror_mode": {
    "name": "ipython",
    "version": 3
   },
   "file_extension": ".py",
   "mimetype": "text/x-python",
   "name": "python",
   "nbconvert_exporter": "python",
   "pygments_lexer": "ipython3",
   "version": "3.10.7"
  },
  "orig_nbformat": 4,
  "vscode": {
   "interpreter": {
    "hash": "d0185ddfd75579eb1e5b4e004bf710910b18c728db594886cda02e075ee86e07"
   }
  }
 },
 "nbformat": 4,
 "nbformat_minor": 2
}
