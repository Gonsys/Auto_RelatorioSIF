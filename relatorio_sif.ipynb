{
 "cells": [
  {
   "cell_type": "code",
   "execution_count": 1,
   "metadata": {},
   "outputs": [],
   "source": [
    "import requests\n",
    "from selenium import webdriver\n",
    "from selenium.webdriver.common.by import By\n",
    "from selenium.webdriver.chrome import options\n",
    "from selenium.webdriver.chrome.options import Options\n",
    "from selenium.webdriver.support.ui import Select\n",
    "from bs4 import BeautifulSoup\n",
    "from time import sleep\n",
    "import pandas as pd\n",
    "import html5lib\n",
    "import openpyxl\n",
    "import datetime \n",
    "from datetime import date"
   ]
  },
  {
   "cell_type": "code",
   "execution_count": 69,
   "metadata": {},
   "outputs": [
    {
     "name": "stderr",
     "output_type": "stream",
     "text": [
      "C:\\Users\\guilherme\\AppData\\Local\\Temp\\ipykernel_21696\\308558210.py:2: DeprecationWarning: headless property is deprecated, instead use add_argument('--headless') or add_argument('--headless=new')\n",
      "  options.headless = False\n",
      "c:\\Users\\guilherme\\OneDrive\\Área de Trabalho\\GUILHERME\\PROJETOS PYTHON\\Auto_Relatorio\\.venv\\lib\\site-packages\\pandas\\util\\_decorators.py:211: FutureWarning: the 'encoding' keyword is deprecated and will be removed in a future version. Please take steps to stop the use of 'encoding'\n",
      "  return func(*args, **kwargs)\n",
      "C:\\Users\\guilherme\\AppData\\Local\\Temp\\ipykernel_21696\\308558210.py:58: FutureWarning: The frame.append method is deprecated and will be removed from pandas in a future version. Use pandas.concat instead.\n",
      "  df= df_strd.append(df)\n",
      "C:\\Users\\guilherme\\AppData\\Local\\Temp\\ipykernel_21696\\308558210.py:61: FutureWarning: save is not part of the public API, usage can give unexpected results and will be removed in a future version\n",
      "  writer.save()\n"
     ]
    }
   ],
   "source": [
    "options = Options()\n",
    "options.headless = False\n",
    "navegador = webdriver.Chrome(options=options)\n",
    "link='http://sifserver.gonsys.com:15001/SIF/authentication/login'\n",
    "navegador.get(url=link)\n",
    "sleep(3)\n",
    "inputUsuario = navegador.find_element(by=By.ID,value='txtUser')\n",
    "inputUsuario.send_keys('')\n",
    "inputSenha = navegador.find_element(by=By.ID,value='txtPassword')\n",
    "inputSenha.send_keys('')\n",
    "\n",
    "sleep(2)\n",
    "botao = navegador.find_element(by=By.NAME,value='sign-in')\n",
    "botao.click()\n",
    "sleep(2)\n",
    "\n",
    "rps = navegador.find_element(by=By.LINK_TEXT,value= 'RPS')\n",
    "rps.click()\n",
    "sleep(5)\n",
    "\n",
    "dropdow = navegador.find_element(By.ID,'ddlEmpresa')\n",
    "dropdow = Select(dropdow)\n",
    "dropdow.select_by_value('1')\n",
    "sleep(5)\n",
    "\n",
    "pesquisar = navegador.find_element(by=By.XPATH,value='/html/body/app-root/div[2]/app-rps/body/form/div[2]/button')\n",
    "pesquisar.click()\n",
    "\n",
    "sleep(5)\n",
    "resultado = navegador.find_element(by=By.XPATH,value='/html/body/app-root/div[2]/app-rps/body/div[2]/div/div/table')\n",
    "html = resultado.get_attribute(\"outerHTML\")\n",
    "sleep(5)\n",
    "soup = BeautifulSoup(html,'html.parser')\n",
    "relatorio = soup.find(name='table')\n",
    "dataframe = pd.read_html(str(relatorio))[0]\n",
    "dataframe = dataframe\n",
    "\n",
    "data_atual = date.today()\n",
    "data_atual = data_atual.strftime('%d/%m/%Y')\n",
    "\n",
    "hora_atual = datetime.datetime.now()\n",
    "hora_atual = hora_atual.strftime('%H:%M')\n",
    "\n",
    "controle = dataframe.assign(Data = data_atual,Hora = hora_atual,Usuário= ['Guilherme'])\n",
    "\n",
    "controle = controle.drop(columns=['Garagem','Empresa','Estado','Cidade'])\n",
    "\n",
    "controle = controle[['Data','Hora','Usuário','Qtde RPS','Qtde Transmitido','Qtde Erro','Qtde Transmitir','Total Transmitido','Total com Erro','Total a Transmitir','Total Geral']]\n",
    "\n",
    "controle = controle.rename(columns = {'Data':'Acompanhamento de Atualização SIF GRU','Hora':'Unnamed: 1','Usuário':'Unnamed: 2','Qtde RPS':'Unnamed: 3','Qtde Transmitido':'Unnamed: 4','Qtde Erro':'Unnamed: 5','Qtde Transmitir':'Unnamed: 6','Total Transmitido':'Unnamed: 7','Total com Erro':'Unnamed: 8','Total a Transmitir':'Unnamed: 9','Total Geral':'Unnamed: 10'})\n",
    "\n",
    "controle.to_excel('relatorio.xlsx' ,encoding='UTF=8',index=False)\n",
    "\n",
    "pd.read_excel('Acompanhamento SIF GRU.xlsx')\n",
    "\n",
    "def leitor_xlsx(df):\n",
    "    df_strd = pd.read_excel('Acompanhamento SIF GRU.xlsx')\n",
    "    df= df_strd.append(df)\n",
    "    writer = pd.ExcelWriter('Acompanhamento SIF GRU.xlsx',engine='xlsxwriter')\n",
    "    df.to_excel(writer,sheet_name='Plan1',index=False)\n",
    "    writer.save()\n",
    "\n",
    "status_atual = pd.read_excel(r\"relatorio.xlsx\",sheet_name = 'Sheet1',)\n",
    "\n",
    "\n",
    "leitor_xlsx(status_atual)"
   ]
  }
 ],
 "metadata": {
  "kernelspec": {
   "display_name": ".venv",
   "language": "python",
   "name": "python3"
  },
  "language_info": {
   "codemirror_mode": {
    "name": "ipython",
    "version": 3
   },
   "file_extension": ".py",
   "mimetype": "text/x-python",
   "name": "python",
   "nbconvert_exporter": "python",
   "pygments_lexer": "ipython3",
   "version": "3.10.7"
  },
  "orig_nbformat": 4,
  "vscode": {
   "interpreter": {
    "hash": "d0185ddfd75579eb1e5b4e004bf710910b18c728db594886cda02e075ee86e07"
   }
  }
 },
 "nbformat": 4,
 "nbformat_minor": 2
}
