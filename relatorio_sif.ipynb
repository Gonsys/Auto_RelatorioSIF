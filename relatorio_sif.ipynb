{
 "cells": [
  {
   "cell_type": "code",
   "execution_count": 82,
   "metadata": {},
   "outputs": [],
   "source": [
    "import requests\n",
    "from selenium import webdriver\n",
    "from selenium.webdriver.common.by import By\n",
    "from selenium.webdriver.chrome import options\n",
    "from selenium.webdriver.chrome.options import Options\n",
    "from selenium.webdriver.support.ui import Select\n",
    "from bs4 import BeautifulSoup\n",
    "from time import sleep\n",
    "import pandas as pd\n",
    "import html5lib\n",
    "import openpyxl\n",
    "import datetime \n",
    "from datetime import date\n",
    "import pyodbc\n",
    "import sqlalchemy as db\n",
    "from sqlalchemy.orm import sessionmaker"
   ]
  },
  {
   "cell_type": "code",
   "execution_count": 69,
   "metadata": {},
   "outputs": [
    {
     "name": "stderr",
     "output_type": "stream",
     "text": [
      "C:\\Users\\guilherme\\AppData\\Local\\Temp\\ipykernel_21696\\308558210.py:2: DeprecationWarning: headless property is deprecated, instead use add_argument('--headless') or add_argument('--headless=new')\n",
      "  options.headless = False\n",
      "c:\\Users\\guilherme\\OneDrive\\Área de Trabalho\\GUILHERME\\PROJETOS PYTHON\\Auto_Relatorio\\.venv\\lib\\site-packages\\pandas\\util\\_decorators.py:211: FutureWarning: the 'encoding' keyword is deprecated and will be removed in a future version. Please take steps to stop the use of 'encoding'\n",
      "  return func(*args, **kwargs)\n",
      "C:\\Users\\guilherme\\AppData\\Local\\Temp\\ipykernel_21696\\308558210.py:58: FutureWarning: The frame.append method is deprecated and will be removed from pandas in a future version. Use pandas.concat instead.\n",
      "  df= df_strd.append(df)\n",
      "C:\\Users\\guilherme\\AppData\\Local\\Temp\\ipykernel_21696\\308558210.py:61: FutureWarning: save is not part of the public API, usage can give unexpected results and will be removed in a future version\n",
      "  writer.save()\n"
     ]
    }
   ],
   "source": [
    "options = Options()\n",
    "options.headless = False\n",
    "navegador = webdriver.Chrome(options=options)\n",
    "link='http://sifserver.gonsys.com:15001/SIF/authentication/login'\n",
    "navegador.get(url=link)\n",
    "sleep(3)\n",
    "inputUsuario = navegador.find_element(by=By.ID,value='txtUser')\n",
    "inputUsuario.send_keys('')\n",
    "inputSenha = navegador.find_element(by=By.ID,value='txtPassword')\n",
    "inputSenha.send_keys('')\n",
    "\n",
    "sleep(2)\n",
    "botao = navegador.find_element(by=By.NAME,value='sign-in')\n",
    "botao.click()\n",
    "sleep(2)\n",
    "\n",
    "rps = navegador.find_element(by=By.LINK_TEXT,value= 'RPS')\n",
    "rps.click()\n",
    "sleep(5)\n",
    "\n",
    "dropdow = navegador.find_element(By.ID,'ddlEmpresa')\n",
    "dropdow = Select(dropdow)\n",
    "dropdow.select_by_value('1')\n",
    "sleep(5)\n",
    "\n",
    "pesquisar = navegador.find_element(by=By.XPATH,value='/html/body/app-root/div[2]/app-rps/body/form/div[2]/button')\n",
    "pesquisar.click()\n",
    "\n",
    "sleep(5)\n",
    "resultado = navegador.find_element(by=By.XPATH,value='/html/body/app-root/div[2]/app-rps/body/div[2]/div/div/table')\n",
    "html = resultado.get_attribute(\"outerHTML\")\n",
    "sleep(5)\n",
    "soup = BeautifulSoup(html,'html.parser')\n",
    "relatorio = soup.find(name='table')\n",
    "dataframe = pd.read_html(str(relatorio))[0]\n",
    "dataframe = dataframe\n",
    "\n",
    "data_atual = date.today()\n",
    "data_atual = data_atual.strftime('%d/%m/%Y')\n",
    "\n",
    "hora_atual = datetime.datetime.now()\n",
    "hora_atual = hora_atual.strftime('%H:%M')\n",
    "\n",
    "controle = dataframe.assign(Data = data_atual,Hora = hora_atual,Usuário= ['Guilherme'])\n",
    "\n",
    "controle = controle.drop(columns=['Garagem','Empresa','Estado','Cidade'])\n",
    "\n",
    "controle = controle[['Data','Hora','Usuário','Qtde RPS','Qtde Transmitido','Qtde Erro','Qtde Transmitir','Total Transmitido','Total com Erro','Total a Transmitir','Total Geral']]\n",
    "\n",
    "controle = controle.rename(columns = {'Data':'Acompanhamento de Atualização SIF GRU','Hora':'Unnamed: 1','Usuário':'Unnamed: 2','Qtde RPS':'Unnamed: 3','Qtde Transmitido':'Unnamed: 4','Qtde Erro':'Unnamed: 5','Qtde Transmitir':'Unnamed: 6','Total Transmitido':'Unnamed: 7','Total com Erro':'Unnamed: 8','Total a Transmitir':'Unnamed: 9','Total Geral':'Unnamed: 10'})\n",
    "#Conectando ao Banco\n",
    "def DadosMensalistas(query):\n",
    "    server = '127.0.0.1,1434' \n",
    "    database = 'SIF_Prod' \n",
    "    username = 'sqlserver' \n",
    "    password = '@dm1nSIF'  \n",
    "    cnxn = pyodbc.connect('DRIVER={SQL Server};SERVER='+server+';DATABASE='+database+';UID='+username+';PWD='+ password)\n",
    "    cursor = cnxn.cursor()\n",
    "    query = query\n",
    "    dataframe_banco = pd.read_sql(query, cnxn)\n",
    "    return dataframe_banco\n",
    "\n",
    "dataframe_banco = DadosMensalistas('select p.Descricao,max(DataEmissao) data from RPS r join Produto p on r.idproduto=p.IDProduto  group by r.IDProduto,p.Descricao')\n",
    "\n",
    "\n",
    "# Método \"T\" transpondo linhas em colunas para adcionar ao dataframe do relatorio\n",
    "colunas = dataframe_banco.T \n",
    "controle = colunas.assign('Rotativo','Mensalista PF','Mensalista PJ','Selo')\n",
    "\n",
    "controle.to_excel('relatorio.xlsx' ,encoding='UTF=8',index=False)\n",
    "\n",
    "pd.read_excel('Acompanhamento SIF GRU.xlsx')\n",
    "\n",
    "def leitor_xlsx(df):\n",
    "    df_strd = pd.read_excel('Acompanhamento SIF GRU.xlsx')\n",
    "    df= df_strd.append(df)\n",
    "    writer = pd.ExcelWriter('Acompanhamento SIF GRU.xlsx',engine='xlsxwriter')\n",
    "    df.to_excel(writer,sheet_name='Plan1',index=False)\n",
    "    writer.save()\n",
    "\n",
    "status_atual = pd.read_excel(r\"relatorio.xlsx\",sheet_name = 'Sheet1',)\n",
    "\n",
    "\n",
    "leitor_xlsx(status_atual)"
   ]
  },
  {
   "cell_type": "code",
   "execution_count": 117,
   "metadata": {},
   "outputs": [
    {
     "ename": "KeyError",
     "evalue": "\"['Descricao'] not found in axis\"",
     "output_type": "error",
     "traceback": [
      "\u001b[1;31m---------------------------------------------------------------------------\u001b[0m",
      "\u001b[1;31mKeyError\u001b[0m                                  Traceback (most recent call last)",
      "Cell \u001b[1;32mIn[117], line 2\u001b[0m\n\u001b[0;32m      1\u001b[0m colunas \u001b[39m=\u001b[39m dataframe_banco\u001b[39m.\u001b[39mT \n\u001b[1;32m----> 2\u001b[0m colunas  \u001b[39m=\u001b[39m colunas\u001b[39m.\u001b[39;49mdrop(columns\u001b[39m=\u001b[39;49m[\u001b[39m'\u001b[39;49m\u001b[39mDescricao\u001b[39;49m\u001b[39m'\u001b[39;49m])\n\u001b[0;32m      3\u001b[0m controle \u001b[39m=\u001b[39m controle\u001b[39m.\u001b[39massign(colunas)\n",
      "File \u001b[1;32mc:\\Users\\guilherme\\OneDrive\\Área de Trabalho\\GUILHERME\\PROJETOS PYTHON\\Auto_Relatorio\\.venv\\lib\\site-packages\\pandas\\util\\_decorators.py:331\u001b[0m, in \u001b[0;36mdeprecate_nonkeyword_arguments.<locals>.decorate.<locals>.wrapper\u001b[1;34m(*args, **kwargs)\u001b[0m\n\u001b[0;32m    325\u001b[0m \u001b[39mif\u001b[39;00m \u001b[39mlen\u001b[39m(args) \u001b[39m>\u001b[39m num_allow_args:\n\u001b[0;32m    326\u001b[0m     warnings\u001b[39m.\u001b[39mwarn(\n\u001b[0;32m    327\u001b[0m         msg\u001b[39m.\u001b[39mformat(arguments\u001b[39m=\u001b[39m_format_argument_list(allow_args)),\n\u001b[0;32m    328\u001b[0m         \u001b[39mFutureWarning\u001b[39;00m,\n\u001b[0;32m    329\u001b[0m         stacklevel\u001b[39m=\u001b[39mfind_stack_level(),\n\u001b[0;32m    330\u001b[0m     )\n\u001b[1;32m--> 331\u001b[0m \u001b[39mreturn\u001b[39;00m func(\u001b[39m*\u001b[39margs, \u001b[39m*\u001b[39m\u001b[39m*\u001b[39mkwargs)\n",
      "File \u001b[1;32mc:\\Users\\guilherme\\OneDrive\\Área de Trabalho\\GUILHERME\\PROJETOS PYTHON\\Auto_Relatorio\\.venv\\lib\\site-packages\\pandas\\core\\frame.py:5399\u001b[0m, in \u001b[0;36mDataFrame.drop\u001b[1;34m(self, labels, axis, index, columns, level, inplace, errors)\u001b[0m\n\u001b[0;32m   5251\u001b[0m \u001b[39m@deprecate_nonkeyword_arguments\u001b[39m(version\u001b[39m=\u001b[39m\u001b[39mNone\u001b[39;00m, allowed_args\u001b[39m=\u001b[39m[\u001b[39m\"\u001b[39m\u001b[39mself\u001b[39m\u001b[39m\"\u001b[39m, \u001b[39m\"\u001b[39m\u001b[39mlabels\u001b[39m\u001b[39m\"\u001b[39m])\n\u001b[0;32m   5252\u001b[0m \u001b[39mdef\u001b[39;00m \u001b[39mdrop\u001b[39m(  \u001b[39m# type: ignore[override]\u001b[39;00m\n\u001b[0;32m   5253\u001b[0m     \u001b[39mself\u001b[39m,\n\u001b[1;32m   (...)\u001b[0m\n\u001b[0;32m   5260\u001b[0m     errors: IgnoreRaise \u001b[39m=\u001b[39m \u001b[39m\"\u001b[39m\u001b[39mraise\u001b[39m\u001b[39m\"\u001b[39m,\n\u001b[0;32m   5261\u001b[0m ) \u001b[39m-\u001b[39m\u001b[39m>\u001b[39m DataFrame \u001b[39m|\u001b[39m \u001b[39mNone\u001b[39;00m:\n\u001b[0;32m   5262\u001b[0m \u001b[39m    \u001b[39m\u001b[39m\"\"\"\u001b[39;00m\n\u001b[0;32m   5263\u001b[0m \u001b[39m    Drop specified labels from rows or columns.\u001b[39;00m\n\u001b[0;32m   5264\u001b[0m \n\u001b[1;32m   (...)\u001b[0m\n\u001b[0;32m   5397\u001b[0m \u001b[39m            weight  1.0     0.8\u001b[39;00m\n\u001b[0;32m   5398\u001b[0m \u001b[39m    \"\"\"\u001b[39;00m\n\u001b[1;32m-> 5399\u001b[0m     \u001b[39mreturn\u001b[39;00m \u001b[39msuper\u001b[39;49m()\u001b[39m.\u001b[39;49mdrop(\n\u001b[0;32m   5400\u001b[0m         labels\u001b[39m=\u001b[39;49mlabels,\n\u001b[0;32m   5401\u001b[0m         axis\u001b[39m=\u001b[39;49maxis,\n\u001b[0;32m   5402\u001b[0m         index\u001b[39m=\u001b[39;49mindex,\n\u001b[0;32m   5403\u001b[0m         columns\u001b[39m=\u001b[39;49mcolumns,\n\u001b[0;32m   5404\u001b[0m         level\u001b[39m=\u001b[39;49mlevel,\n\u001b[0;32m   5405\u001b[0m         inplace\u001b[39m=\u001b[39;49minplace,\n\u001b[0;32m   5406\u001b[0m         errors\u001b[39m=\u001b[39;49merrors,\n\u001b[0;32m   5407\u001b[0m     )\n",
      "File \u001b[1;32mc:\\Users\\guilherme\\OneDrive\\Área de Trabalho\\GUILHERME\\PROJETOS PYTHON\\Auto_Relatorio\\.venv\\lib\\site-packages\\pandas\\util\\_decorators.py:331\u001b[0m, in \u001b[0;36mdeprecate_nonkeyword_arguments.<locals>.decorate.<locals>.wrapper\u001b[1;34m(*args, **kwargs)\u001b[0m\n\u001b[0;32m    325\u001b[0m \u001b[39mif\u001b[39;00m \u001b[39mlen\u001b[39m(args) \u001b[39m>\u001b[39m num_allow_args:\n\u001b[0;32m    326\u001b[0m     warnings\u001b[39m.\u001b[39mwarn(\n\u001b[0;32m    327\u001b[0m         msg\u001b[39m.\u001b[39mformat(arguments\u001b[39m=\u001b[39m_format_argument_list(allow_args)),\n\u001b[0;32m    328\u001b[0m         \u001b[39mFutureWarning\u001b[39;00m,\n\u001b[0;32m    329\u001b[0m         stacklevel\u001b[39m=\u001b[39mfind_stack_level(),\n\u001b[0;32m    330\u001b[0m     )\n\u001b[1;32m--> 331\u001b[0m \u001b[39mreturn\u001b[39;00m func(\u001b[39m*\u001b[39margs, \u001b[39m*\u001b[39m\u001b[39m*\u001b[39mkwargs)\n",
      "File \u001b[1;32mc:\\Users\\guilherme\\OneDrive\\Área de Trabalho\\GUILHERME\\PROJETOS PYTHON\\Auto_Relatorio\\.venv\\lib\\site-packages\\pandas\\core\\generic.py:4505\u001b[0m, in \u001b[0;36mNDFrame.drop\u001b[1;34m(self, labels, axis, index, columns, level, inplace, errors)\u001b[0m\n\u001b[0;32m   4503\u001b[0m \u001b[39mfor\u001b[39;00m axis, labels \u001b[39min\u001b[39;00m axes\u001b[39m.\u001b[39mitems():\n\u001b[0;32m   4504\u001b[0m     \u001b[39mif\u001b[39;00m labels \u001b[39mis\u001b[39;00m \u001b[39mnot\u001b[39;00m \u001b[39mNone\u001b[39;00m:\n\u001b[1;32m-> 4505\u001b[0m         obj \u001b[39m=\u001b[39m obj\u001b[39m.\u001b[39;49m_drop_axis(labels, axis, level\u001b[39m=\u001b[39;49mlevel, errors\u001b[39m=\u001b[39;49merrors)\n\u001b[0;32m   4507\u001b[0m \u001b[39mif\u001b[39;00m inplace:\n\u001b[0;32m   4508\u001b[0m     \u001b[39mself\u001b[39m\u001b[39m.\u001b[39m_update_inplace(obj)\n",
      "File \u001b[1;32mc:\\Users\\guilherme\\OneDrive\\Área de Trabalho\\GUILHERME\\PROJETOS PYTHON\\Auto_Relatorio\\.venv\\lib\\site-packages\\pandas\\core\\generic.py:4546\u001b[0m, in \u001b[0;36mNDFrame._drop_axis\u001b[1;34m(self, labels, axis, level, errors, only_slice)\u001b[0m\n\u001b[0;32m   4544\u001b[0m         new_axis \u001b[39m=\u001b[39m axis\u001b[39m.\u001b[39mdrop(labels, level\u001b[39m=\u001b[39mlevel, errors\u001b[39m=\u001b[39merrors)\n\u001b[0;32m   4545\u001b[0m     \u001b[39melse\u001b[39;00m:\n\u001b[1;32m-> 4546\u001b[0m         new_axis \u001b[39m=\u001b[39m axis\u001b[39m.\u001b[39;49mdrop(labels, errors\u001b[39m=\u001b[39;49merrors)\n\u001b[0;32m   4547\u001b[0m     indexer \u001b[39m=\u001b[39m axis\u001b[39m.\u001b[39mget_indexer(new_axis)\n\u001b[0;32m   4549\u001b[0m \u001b[39m# Case for non-unique axis\u001b[39;00m\n\u001b[0;32m   4550\u001b[0m \u001b[39melse\u001b[39;00m:\n",
      "File \u001b[1;32mc:\\Users\\guilherme\\OneDrive\\Área de Trabalho\\GUILHERME\\PROJETOS PYTHON\\Auto_Relatorio\\.venv\\lib\\site-packages\\pandas\\core\\indexes\\base.py:6934\u001b[0m, in \u001b[0;36mIndex.drop\u001b[1;34m(self, labels, errors)\u001b[0m\n\u001b[0;32m   6932\u001b[0m \u001b[39mif\u001b[39;00m mask\u001b[39m.\u001b[39many():\n\u001b[0;32m   6933\u001b[0m     \u001b[39mif\u001b[39;00m errors \u001b[39m!=\u001b[39m \u001b[39m\"\u001b[39m\u001b[39mignore\u001b[39m\u001b[39m\"\u001b[39m:\n\u001b[1;32m-> 6934\u001b[0m         \u001b[39mraise\u001b[39;00m \u001b[39mKeyError\u001b[39;00m(\u001b[39mf\u001b[39m\u001b[39m\"\u001b[39m\u001b[39m{\u001b[39;00m\u001b[39mlist\u001b[39m(labels[mask])\u001b[39m}\u001b[39;00m\u001b[39m not found in axis\u001b[39m\u001b[39m\"\u001b[39m)\n\u001b[0;32m   6935\u001b[0m     indexer \u001b[39m=\u001b[39m indexer[\u001b[39m~\u001b[39mmask]\n\u001b[0;32m   6936\u001b[0m \u001b[39mreturn\u001b[39;00m \u001b[39mself\u001b[39m\u001b[39m.\u001b[39mdelete(indexer)\n",
      "\u001b[1;31mKeyError\u001b[0m: \"['Descricao'] not found in axis\""
     ]
    }
   ],
   "source": [
    "colunas = dataframe_banco.T \n",
    "colunas  = colunas.drop(columns=['Descricao'])\n",
    "controle = controle.assign(colunas)\n"
   ]
  },
  {
   "cell_type": "code",
   "execution_count": 147,
   "metadata": {},
   "outputs": [],
   "source": [
    "\n"
   ]
  },
  {
   "cell_type": "code",
   "execution_count": 151,
   "metadata": {},
   "outputs": [],
   "source": [
    "teste = dataframe_banco.drop(columns='Descricao')"
   ]
  },
  {
   "cell_type": "code",
   "execution_count": 155,
   "metadata": {},
   "outputs": [
    {
     "ename": "TypeError",
     "evalue": "DataFrame.assign() takes 1 positional argument but 2 were given",
     "output_type": "error",
     "traceback": [
      "\u001b[1;31m---------------------------------------------------------------------------\u001b[0m",
      "\u001b[1;31mTypeError\u001b[0m                                 Traceback (most recent call last)",
      "Cell \u001b[1;32mIn[155], line 3\u001b[0m\n\u001b[0;32m      1\u001b[0m informe \u001b[39m=\u001b[39m teste\u001b[39m.\u001b[39mT\n\u001b[1;32m----> 3\u001b[0m formatado \u001b[39m=\u001b[39m dataframe\u001b[39m.\u001b[39;49massign(informe)\n",
      "\u001b[1;31mTypeError\u001b[0m: DataFrame.assign() takes 1 positional argument but 2 were given"
     ]
    }
   ],
   "source": [
    "informe = teste.T\n",
    "\n",
    "formatado = dataframe.assign(informe)"
   ]
  }
 ],
 "metadata": {
  "kernelspec": {
   "display_name": ".venv",
   "language": "python",
   "name": "python3"
  },
  "language_info": {
   "codemirror_mode": {
    "name": "ipython",
    "version": 3
   },
   "file_extension": ".py",
   "mimetype": "text/x-python",
   "name": "python",
   "nbconvert_exporter": "python",
   "pygments_lexer": "ipython3",
   "version": "3.10.7"
  },
  "orig_nbformat": 4,
  "vscode": {
   "interpreter": {
    "hash": "d0185ddfd75579eb1e5b4e004bf710910b18c728db594886cda02e075ee86e07"
   }
  }
 },
 "nbformat": 4,
 "nbformat_minor": 2
}
