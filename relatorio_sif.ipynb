{
 "cells": [
  {
   "cell_type": "code",
   "execution_count": 141,
   "metadata": {},
   "outputs": [],
   "source": [
    "import requests\n",
    "from selenium import webdriver\n",
    "from selenium.webdriver.common.by import By\n",
    "from selenium.webdriver.chrome import options\n",
    "from selenium.webdriver.chrome.options import Options\n",
    "from selenium.webdriver.support.ui import Select\n",
    "from bs4 import BeautifulSoup\n",
    "from time import sleep"
   ]
  },
  {
   "cell_type": "code",
   "execution_count": 179,
   "metadata": {},
   "outputs": [
    {
     "name": "stderr",
     "output_type": "stream",
     "text": [
      "C:\\Users\\guilherme\\AppData\\Local\\Temp\\ipykernel_31380\\748634137.py:2: DeprecationWarning: headless property is deprecated, instead use add_argument('--headless') or add_argument('--headless=new')\n",
      "  options.headless = False\n"
     ]
    }
   ],
   "source": [
    "options = Options()\n",
    "options.headless = False\n",
    "navegador = webdriver.Chrome(options=options)\n",
    "link='http://sifserver.gonsys.com:15001/SIF/authentication/login'\n",
    "navegador.get(url=link)\n",
    "sleep(3)\n",
    "inputUsuario = navegador.find_element(by=By.ID,value='txtUser')\n",
    "inputUsuario.send_keys('')\n",
    "inputSenha = navegador.find_element(by=By.ID,value='txtPassword')\n",
    "inputSenha.send_keys('')\n",
    "\n",
    "sleep(2)\n",
    "botao = navegador.find_element(by=By.NAME,value='sign-in')\n",
    "botao.click()\n",
    "sleep(2)\n",
    "\n",
    "rps = navegador.find_element(by=By.LINK_TEXT,value= 'RPS')\n",
    "rps.click()\n",
    "sleep(5)\n",
    "\n",
    "dropdow = navegador.find_element(By.ID,'ddlEmpresa')\n",
    "dropdow = Select(dropdow)\n",
    "#dropdow.select_by_visible_text('AGE S.A.')\n",
    "dropdow.select_by_value('1')\n",
    "sleep(5)\n",
    "\n",
    "# não deram certo \n",
    "# -->\n",
    "#pesquisar = navegador.find_element(by=By.NAME,value='Pesquisar')\n",
    "#pesquisar = navegador.find_element(by=By.LINK_TEXT,value= 'Pesquisar')\n",
    "#pesquisar = navegador.find_element(by=By.TAG_NAME,value= 'BUTTON')\n",
    "#pesquisar = navegador.find_element(by=By.ID,value='')\n",
    "#pesquisar = navegador.find_element(By.LINK_TEXT,value = 'Pesquisar')\n",
    "# <--\n",
    "pesquisar = navegador.find_element(by=By.XPATH,value='/html/body/app-root/div[2]/app-rps/body/form/div[2]/button')\n",
    "\n",
    "pesquisar.click()\n"
   ]
  }
 ],
 "metadata": {
  "kernelspec": {
   "display_name": ".venv",
   "language": "python",
   "name": "python3"
  },
  "language_info": {
   "codemirror_mode": {
    "name": "ipython",
    "version": 3
   },
   "file_extension": ".py",
   "mimetype": "text/x-python",
   "name": "python",
   "nbconvert_exporter": "python",
   "pygments_lexer": "ipython3",
   "version": "3.10.7"
  },
  "orig_nbformat": 4,
  "vscode": {
   "interpreter": {
    "hash": "d0185ddfd75579eb1e5b4e004bf710910b18c728db594886cda02e075ee86e07"
   }
  }
 },
 "nbformat": 4,
 "nbformat_minor": 2
}
