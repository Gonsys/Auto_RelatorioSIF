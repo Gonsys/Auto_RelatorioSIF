{
 "cells": [
  {
   "cell_type": "code",
   "execution_count": 1,
   "metadata": {},
   "outputs": [],
   "source": [
    "import requests\n",
    "from selenium import webdriver\n",
    "from selenium.webdriver.common.by import By\n",
    "from selenium.webdriver.chrome import options\n",
    "from selenium.webdriver.chrome.options import Options\n",
    "from selenium.webdriver.support.ui import Select\n",
    "from bs4 import BeautifulSoup\n",
    "from time import sleep\n",
    "import pandas as pd\n",
    "import html5lib\n",
    "import openpyxl\n",
    "import datetime \n",
    "from datetime import date"
   ]
  },
  {
   "cell_type": "code",
   "execution_count": 15,
   "metadata": {},
   "outputs": [
    {
     "name": "stderr",
     "output_type": "stream",
     "text": [
      "C:\\Users\\guilherme\\AppData\\Local\\Temp\\ipykernel_21696\\2678299513.py:2: DeprecationWarning: headless property is deprecated, instead use add_argument('--headless') or add_argument('--headless=new')\n",
      "  options.headless = False\n",
      "c:\\Users\\guilherme\\OneDrive\\Área de Trabalho\\GUILHERME\\PROJETOS PYTHON\\Auto_Relatorio\\.venv\\lib\\site-packages\\pandas\\util\\_decorators.py:211: FutureWarning: the 'encoding' keyword is deprecated and will be removed in a future version. Please take steps to stop the use of 'encoding'\n",
      "  return func(*args, **kwargs)\n"
     ]
    }
   ],
   "source": [
    "options = Options()\n",
    "options.headless = False\n",
    "navegador = webdriver.Chrome(options=options)\n",
    "link='http://sifserver.gonsys.com:15001/SIF/authentication/login'\n",
    "navegador.get(url=link)\n",
    "sleep(3)\n",
    "inputUsuario = navegador.find_element(by=By.ID,value='txtUser')\n",
    "inputUsuario.send_keys('guilherme.lobo')\n",
    "inputSenha = navegador.find_element(by=By.ID,value='txtPassword')\n",
    "inputSenha.send_keys('Alfa2905')\n",
    "\n",
    "sleep(2)\n",
    "botao = navegador.find_element(by=By.NAME,value='sign-in')\n",
    "botao.click()\n",
    "sleep(2)\n",
    "\n",
    "rps = navegador.find_element(by=By.LINK_TEXT,value= 'RPS')\n",
    "rps.click()\n",
    "sleep(5)\n",
    "\n",
    "dropdow = navegador.find_element(By.ID,'ddlEmpresa')\n",
    "dropdow = Select(dropdow)\n",
    "dropdow.select_by_value('1')\n",
    "sleep(5)\n",
    "\n",
    "pesquisar = navegador.find_element(by=By.XPATH,value='/html/body/app-root/div[2]/app-rps/body/form/div[2]/button')\n",
    "pesquisar.click()\n",
    "\n",
    "sleep(5)\n",
    "resultado = navegador.find_element(by=By.XPATH,value='/html/body/app-root/div[2]/app-rps/body/div[2]/div/div/table')\n",
    "html = resultado.get_attribute(\"outerHTML\")\n",
    "sleep(5)\n",
    "soup = BeautifulSoup(html,'html.parser')\n",
    "relatorio = soup.find(name='table')\n",
    "dataframe = pd.read_html(str(relatorio))[0]\n",
    "dataframe = dataframe\n",
    "\n",
    "\n",
    "dataframe.to_excel('relatorio.xlsx' ,encoding='UTF=8',index=False)\n",
    "\n"
   ]
  },
  {
   "cell_type": "code",
   "execution_count": 16,
   "metadata": {},
   "outputs": [
    {
     "data": {
      "text/html": [
       "<div>\n",
       "<style scoped>\n",
       "    .dataframe tbody tr th:only-of-type {\n",
       "        vertical-align: middle;\n",
       "    }\n",
       "\n",
       "    .dataframe tbody tr th {\n",
       "        vertical-align: top;\n",
       "    }\n",
       "\n",
       "    .dataframe thead th {\n",
       "        text-align: right;\n",
       "    }\n",
       "</style>\n",
       "<table border=\"1\" class=\"dataframe\">\n",
       "  <thead>\n",
       "    <tr style=\"text-align: right;\">\n",
       "      <th></th>\n",
       "      <th>Data</th>\n",
       "      <th>Garagem</th>\n",
       "      <th>Empresa</th>\n",
       "      <th>Estado</th>\n",
       "      <th>Cidade</th>\n",
       "      <th>Qtde RPS</th>\n",
       "      <th>Qtde Transmitido</th>\n",
       "      <th>Qtde Erro</th>\n",
       "      <th>Qtde Transmitir</th>\n",
       "      <th>Total Transmitido</th>\n",
       "      <th>Total com Erro</th>\n",
       "      <th>Total a Transmitir</th>\n",
       "      <th>Total Geral</th>\n",
       "    </tr>\n",
       "  </thead>\n",
       "  <tbody>\n",
       "    <tr>\n",
       "      <th>0</th>\n",
       "      <td>01/2023</td>\n",
       "      <td>1001 - AERO GUARULHOS</td>\n",
       "      <td>AGE S.A.</td>\n",
       "      <td>São Paulo</td>\n",
       "      <td>Guarulhos</td>\n",
       "      <td>90600</td>\n",
       "      <td>90600</td>\n",
       "      <td>0</td>\n",
       "      <td>0</td>\n",
       "      <td>R$ 6.191.836,31</td>\n",
       "      <td>R$ 0,00</td>\n",
       "      <td>R$ 0,00</td>\n",
       "      <td>R$ 6.191.836,31</td>\n",
       "    </tr>\n",
       "  </tbody>\n",
       "</table>\n",
       "</div>"
      ],
      "text/plain": [
       "      Data                Garagem   Empresa     Estado     Cidade  Qtde RPS  \\\n",
       "0  01/2023  1001 - AERO GUARULHOS  AGE S.A.  São Paulo  Guarulhos     90600   \n",
       "\n",
       "   Qtde Transmitido  Qtde Erro  Qtde Transmitir Total Transmitido  \\\n",
       "0             90600          0                0   R$ 6.191.836,31   \n",
       "\n",
       "  Total com Erro Total a Transmitir      Total Geral  \n",
       "0        R$ 0,00            R$ 0,00  R$ 6.191.836,31  "
      ]
     },
     "execution_count": 16,
     "metadata": {},
     "output_type": "execute_result"
    }
   ],
   "source": [
    "dataframe"
   ]
  },
  {
   "cell_type": "code",
   "execution_count": 18,
   "metadata": {},
   "outputs": [
    {
     "ename": "AttributeError",
     "evalue": "'NoneType' object has no attribute 'assign'",
     "output_type": "error",
     "traceback": [
      "\u001b[1;31m---------------------------------------------------------------------------\u001b[0m",
      "\u001b[1;31mAttributeError\u001b[0m                            Traceback (most recent call last)",
      "Cell \u001b[1;32mIn[18], line 6\u001b[0m\n\u001b[0;32m      4\u001b[0m hora_atual \u001b[39m=\u001b[39m datetime\u001b[39m.\u001b[39mdatetime\u001b[39m.\u001b[39mnow()\n\u001b[0;32m      5\u001b[0m hora_atual \u001b[39m=\u001b[39m hora_atual\u001b[39m.\u001b[39mstrftime(\u001b[39m'\u001b[39m\u001b[39m%\u001b[39m\u001b[39mH:\u001b[39m\u001b[39m%\u001b[39m\u001b[39mM\u001b[39m\u001b[39m'\u001b[39m)\n\u001b[1;32m----> 6\u001b[0m dataframe \u001b[39m=\u001b[39m dataframe\u001b[39m.\u001b[39;49massign(Data \u001b[39m=\u001b[39m data_atual,Hora \u001b[39m=\u001b[39m hora_atual,Usuário\u001b[39m=\u001b[39m [\u001b[39m'\u001b[39m\u001b[39mGuilherme\u001b[39m\u001b[39m'\u001b[39m])\n\u001b[0;32m      7\u001b[0m dataframe \u001b[39m=\u001b[39m dataframe\u001b[39m.\u001b[39mdrop(columns\u001b[39m=\u001b[39m[\u001b[39m'\u001b[39m\u001b[39mGaragem\u001b[39m\u001b[39m'\u001b[39m,\u001b[39m'\u001b[39m\u001b[39mEmpresa\u001b[39m\u001b[39m'\u001b[39m,\u001b[39m'\u001b[39m\u001b[39mEstado\u001b[39m\u001b[39m'\u001b[39m,\u001b[39m'\u001b[39m\u001b[39mCidade\u001b[39m\u001b[39m'\u001b[39m])\n\u001b[0;32m      8\u001b[0m dataframe \u001b[39m=\u001b[39m dataframe[[\u001b[39m'\u001b[39m\u001b[39mData\u001b[39m\u001b[39m'\u001b[39m,\u001b[39m'\u001b[39m\u001b[39mHora\u001b[39m\u001b[39m'\u001b[39m,\u001b[39m'\u001b[39m\u001b[39mUsuário\u001b[39m\u001b[39m'\u001b[39m,\u001b[39m'\u001b[39m\u001b[39mQtde RPS\u001b[39m\u001b[39m'\u001b[39m,\u001b[39m'\u001b[39m\u001b[39mQtde Transmitido\u001b[39m\u001b[39m'\u001b[39m,\u001b[39m'\u001b[39m\u001b[39mQtde Erro\u001b[39m\u001b[39m'\u001b[39m,\u001b[39m'\u001b[39m\u001b[39mQtde Transmitir\u001b[39m\u001b[39m'\u001b[39m,\u001b[39m'\u001b[39m\u001b[39mTotal Transmitido\u001b[39m\u001b[39m'\u001b[39m,\u001b[39m'\u001b[39m\u001b[39mTotal com Erro\u001b[39m\u001b[39m'\u001b[39m,\u001b[39m'\u001b[39m\u001b[39mTotal a Transmitir\u001b[39m\u001b[39m'\u001b[39m,\u001b[39m'\u001b[39m\u001b[39mTotal Geral\u001b[39m\u001b[39m'\u001b[39m]]\n",
      "\u001b[1;31mAttributeError\u001b[0m: 'NoneType' object has no attribute 'assign'"
     ]
    }
   ],
   "source": [
    "data_atual = date.today()\n",
    "data_atual = data_atual.strftime('%d/%m/%Y')\n",
    "\n",
    "hora_atual = datetime.datetime.now()\n",
    "hora_atual = hora_atual.strftime('%H:%M')\n",
    "dataframe = dataframe.assign(Data = data_atual,Hora = hora_atual,Usuário= ['Guilherme'])\n",
    "#dataframe = dataframe.drop(columns=['Garagem','Empresa','Estado','Cidade'])\n",
    "dataframe = dataframe[['Data','Hora','Usuário','Qtde RPS','Qtde Transmitido','Qtde Erro','Qtde Transmitir','Total Transmitido','Total com Erro','Total a Transmitir','Total Geral']]\n",
    "dataframe = dataframe.rename(columns = {'Data':'Acompanhamento de Atualização SIF GRU','Hora':'Unnamed: 1','Usuário':'Unnamed: 2','Qtde RPS':'Unnamed: 3','Qtde Transmitido':'Unnamed: 4','Qtde Erro':'Unnamed: 5','Qtde Transmitir':'Unnamed: 6','Total Transmitido':'Unnamed: 7','Total com Erro':'Unnamed: 8','Total a Transmitir':'Unnamed: 9','Total Geral':'Unnamed: 10'}, inplace = True)\n",
    "dataframe.to_excel('relatorio.xlsx' ,encoding='UTF=8',index=False)"
   ]
  },
  {
   "cell_type": "code",
   "execution_count": 3,
   "metadata": {},
   "outputs": [],
   "source": [
    "pd.read_excel('Acompanhamento SIF GRU.xlsx')\n",
    "\n",
    "def leitor_xlsx(df):\n",
    "    df_strd = pd.read_excel('Acompanhamento SIF GRU.xlsx')\n",
    "    df= df_strd.append(df)\n",
    "    writer = pd.ExcelWriter('Acompanhamento SIF GRU.xlsx',engine='xlsxwriter')\n",
    "    df.to_excel(writer,sheet_name='Plan1',index=True)\n",
    "    writer.save()\n",
    "\n",
    "status_atual = pd.read_excel(r\"relatorio.xlsx\",sheet_name = 'Sheet1')\n",
    "\n",
    "\n"
   ]
  },
  {
   "cell_type": "code",
   "execution_count": 4,
   "metadata": {},
   "outputs": [
    {
     "name": "stderr",
     "output_type": "stream",
     "text": [
      "C:\\Users\\guilherme\\AppData\\Local\\Temp\\ipykernel_21696\\3641467649.py:5: FutureWarning: The frame.append method is deprecated and will be removed from pandas in a future version. Use pandas.concat instead.\n",
      "  df= df_strd.append(df)\n",
      "C:\\Users\\guilherme\\AppData\\Local\\Temp\\ipykernel_21696\\3641467649.py:8: FutureWarning: save is not part of the public API, usage can give unexpected results and will be removed in a future version\n",
      "  writer.save()\n"
     ]
    }
   ],
   "source": [
    "\n",
    "leitor_xlsx(status_atual)"
   ]
  },
  {
   "cell_type": "code",
   "execution_count": 13,
   "metadata": {},
   "outputs": [
    {
     "name": "stdout",
     "output_type": "stream",
     "text": [
      "None\n"
     ]
    }
   ],
   "source": [
    "print(dataframe)"
   ]
  },
  {
   "cell_type": "code",
   "execution_count": null,
   "metadata": {},
   "outputs": [],
   "source": [
    "\n"
   ]
  }
 ],
 "metadata": {
  "kernelspec": {
   "display_name": ".venv",
   "language": "python",
   "name": "python3"
  },
  "language_info": {
   "codemirror_mode": {
    "name": "ipython",
    "version": 3
   },
   "file_extension": ".py",
   "mimetype": "text/x-python",
   "name": "python",
   "nbconvert_exporter": "python",
   "pygments_lexer": "ipython3",
   "version": "3.10.7"
  },
  "orig_nbformat": 4,
  "vscode": {
   "interpreter": {
    "hash": "d0185ddfd75579eb1e5b4e004bf710910b18c728db594886cda02e075ee86e07"
   }
  }
 },
 "nbformat": 4,
 "nbformat_minor": 2
}
